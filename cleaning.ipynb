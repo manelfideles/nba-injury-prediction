{
 "cells": [
  {
   "cell_type": "markdown",
   "metadata": {},
   "source": [
    "# Cleaning"
   ]
  },
  {
   "cell_type": "code",
   "execution_count": 277,
   "metadata": {},
   "outputs": [],
   "source": [
    "import pickle\n",
    "import datetime\n",
    "import unicodedata\n",
    "import pandas as pd\n",
    "import numpy as np\n",
    "from os import getcwd\n",
    "from os.path import dirname\n",
    "\n",
    "path = getcwd()\n",
    "parent = dirname(path)\n",
    "DIR_DATA = parent+'/data/'\n",
    "DIR_RAW_DATA = DIR_DATA+'raw/'\n",
    "DIR_CLEAN_DATA = DIR_DATA+'clean/'\n",
    "\n",
    "team_abrv_pickle_path = 'teams_abrv_dictionary.p'\n",
    "team_abrv_dict = pickle.load(open( team_abrv_pickle_path, \"rb\" )) \n",
    "\n",
    "team_nick_pickle_path = 'teams_nickname_dictionary.p'\n",
    "team_nick_dict = pickle.load(open( team_nick_pickle_path, \"rb\" )) "
   ]
  },
  {
   "cell_type": "code",
   "execution_count": 306,
   "metadata": {},
   "outputs": [
    {
     "data": {
      "text/plain": [
       "{'ATL': 'Atlanta Hawks',\n",
       " 'BOS': 'Boston Celtics',\n",
       " 'CHA': 'Charlotte Bobcats',\n",
       " 'CHI': 'Chicago Bulls',\n",
       " 'CLE': 'Cleveland Cavaliers',\n",
       " 'DAL': 'Dallas Mavericks',\n",
       " 'DEN': 'Denver Nuggets',\n",
       " 'DET': 'Detroit Pistons',\n",
       " 'GSW': 'Golden State Warriors',\n",
       " 'HOU': 'Houston Rockets',\n",
       " 'IND': 'Indiana Pacers',\n",
       " 'LAC': 'Los Angeles Clippers',\n",
       " 'LAL': 'Los Angeles Lakers',\n",
       " 'MEM': 'Memphis Grizzlies',\n",
       " 'MIA': 'Miami Heat',\n",
       " 'MIL': 'Milwaukee Bucks',\n",
       " 'MIN': 'Minnesota Timberwolves',\n",
       " 'NOP': 'New Orleans Pelicans',\n",
       " 'NYK': 'New York Knicks',\n",
       " 'OKC': 'Oklahoma City Thunder',\n",
       " 'ORL': 'Orlando Magic',\n",
       " 'PHI': 'Philadelphia 76ers',\n",
       " 'PHO': 'Phoenix Suns',\n",
       " 'POR': 'Portland Trailblazers',\n",
       " 'SAC': 'Sacramento Kings',\n",
       " 'SAS': 'San Antonio Spurs',\n",
       " 'TOR': 'Toronto Raptors',\n",
       " 'UTA': 'Utah Jazz',\n",
       " 'WAS': 'Washington Wizards',\n",
       " 'NJN': 'New Jersey Nets',\n",
       " 'BRK': 'Brooklyn Nets',\n",
       " 'NOH': 'New Orleans Hornets',\n",
       " 'CHO': 'Charlotte Hornets',\n",
       " 'SEA': 'Seattle Supersonics',\n",
       " 'CHH': 'Charlotte Hornets',\n",
       " 'WSB': 'Washington Bullets',\n",
       " 'NOK': 'New Orleans Hornets',\n",
       " 'VAN': 'Vancouver Grizzlies'}"
      ]
     },
     "execution_count": 306,
     "metadata": {},
     "output_type": "execute_result"
    }
   ],
   "source": [
    "team_abrv_dict"
   ]
  },
  {
   "cell_type": "code",
   "execution_count": 7,
   "metadata": {},
   "outputs": [],
   "source": [
    "def strip_accents(s):\n",
    "   \n",
    "    \"\"\"\n",
    "    This function removes accents from characters within a string, replacing those \n",
    "    characters with a non-accented unicode character. Input is a string. \n",
    "    Output is a string.\n",
    "    \"\"\"\n",
    "    \n",
    "    return ''.join(c for c in unicodedata.normalize('NFD', s) if unicodedata.category(c) != 'Mn')\n"
   ]
  },
  {
   "cell_type": "markdown",
   "metadata": {},
   "source": [
    "## Player Stats Dataset"
   ]
  },
  {
   "cell_type": "code",
   "execution_count": 280,
   "metadata": {},
   "outputs": [
    {
     "name": "stdout",
     "output_type": "stream",
     "text": [
      "<class 'pandas.core.frame.DataFrame'>\n",
      "RangeIndex: 6617 entries, 0 to 6616\n",
      "Data columns (total 31 columns):\n",
      " #   Column                Non-Null Count  Dtype  \n",
      "---  ------                --------------  -----  \n",
      " 0   Year                  6617 non-null   float64\n",
      " 1   PLAYER_NAME           6617 non-null   object \n",
      " 2   Season                6617 non-null   object \n",
      " 3   TEAM_ID               6617 non-null   int64  \n",
      " 4   TEAM_ABBREVIATION     6617 non-null   object \n",
      " 5   AGE                   6617 non-null   float64\n",
      " 6   PLAYER_HEIGHT_INCHES  6612 non-null   float64\n",
      " 7   PLAYER_WEIGHT         6612 non-null   float64\n",
      " 8   GP                    6617 non-null   int64  \n",
      " 9   MIN                   6617 non-null   float64\n",
      " 10  REB                   6617 non-null   float64\n",
      " 11  OREB                  6617 non-null   float64\n",
      " 12  DREB                  6617 non-null   float64\n",
      " 13  BLK                   6617 non-null   float64\n",
      " 14  PF                    6617 non-null   float64\n",
      " 15  PFD                   6617 non-null   float64\n",
      " 16  DIST_MILES            6614 non-null   float64\n",
      " 17  DIST_MILES_OFF        6613 non-null   float64\n",
      " 18  DIST_MILES_DEF        6613 non-null   float64\n",
      " 19  AVG_SPEED             6614 non-null   float64\n",
      " 20  AVG_SPEED_OFF         6614 non-null   float64\n",
      " 21  AVG_SPEED_DEF         6614 non-null   float64\n",
      " 22  PLAYER_ID             6617 non-null   int64  \n",
      " 23  CONTESTED_SHOTS       6617 non-null   float64\n",
      " 24  CONTESTED_SHOTS_2PT   6617 non-null   float64\n",
      " 25  CONTESTED_SHOTS_3PT   6617 non-null   float64\n",
      " 26  BOX_OUTS              6617 non-null   float64\n",
      " 27  OFF_BOXOUTS           6617 non-null   float64\n",
      " 28  DEF_BOXOUTS           6617 non-null   float64\n",
      " 29  DEFLECTIONS           6617 non-null   float64\n",
      " 30  CHARGES_DRAWN         6617 non-null   float64\n",
      "dtypes: float64(25), int64(3), object(3)\n",
      "memory usage: 1.6+ MB\n"
     ]
    }
   ],
   "source": [
    "players_stats_df = pd.read_csv(DIR_RAW_DATA+'players_stats.csv')\n",
    "players_stats_df.info()"
   ]
  },
  {
   "cell_type": "code",
   "execution_count": 281,
   "metadata": {},
   "outputs": [
    {
     "name": "stdout",
     "output_type": "stream",
     "text": [
      "<class 'pandas.core.frame.DataFrame'>\n",
      "Int64Index: 6612 entries, 0 to 6616\n",
      "Data columns (total 30 columns):\n",
      " #   Column               Non-Null Count  Dtype  \n",
      "---  ------               --------------  -----  \n",
      " 0   Year                 6612 non-null   int64  \n",
      " 1   Player               6612 non-null   object \n",
      " 2   Season               6612 non-null   object \n",
      " 3   Team                 6612 non-null   object \n",
      " 4   Age                  6612 non-null   int64  \n",
      " 5   Inches               6612 non-null   int64  \n",
      " 6   Weight               6612 non-null   int64  \n",
      " 7   GP                   6612 non-null   int64  \n",
      " 8   MIN                  6612 non-null   float64\n",
      " 9   REB                  6612 non-null   float64\n",
      " 10  OREB                 6612 non-null   float64\n",
      " 11  DREB                 6612 non-null   float64\n",
      " 12  BLK                  6612 non-null   float64\n",
      " 13  PF                   6612 non-null   float64\n",
      " 14  PFD                  6612 non-null   float64\n",
      " 15  DIST_MILES           6609 non-null   float64\n",
      " 16  DIST_MILES_OFF       6608 non-null   float64\n",
      " 17  DIST_MILES_DEF       6608 non-null   float64\n",
      " 18  AVG_SPEED            6609 non-null   float64\n",
      " 19  AVG_SPEED_OFF        6609 non-null   float64\n",
      " 20  AVG_SPEED_DEF        6609 non-null   float64\n",
      " 21  PLAYER_ID            6612 non-null   int64  \n",
      " 22  CONTESTED_SHOTS      6612 non-null   float64\n",
      " 23  CONTESTED_SHOTS_2PT  6612 non-null   float64\n",
      " 24  CONTESTED_SHOTS_3PT  6612 non-null   float64\n",
      " 25  BOX_OUTS             6612 non-null   float64\n",
      " 26  OFF_BOXOUTS          6612 non-null   float64\n",
      " 27  DEF_BOXOUTS          6612 non-null   float64\n",
      " 28  DEFLECTIONS          6612 non-null   float64\n",
      " 29  CHARGES_DRAWN        6612 non-null   float64\n",
      "dtypes: float64(21), int64(6), object(3)\n",
      "memory usage: 1.6+ MB\n"
     ]
    }
   ],
   "source": [
    "players_stats_df = players_stats_df.rename(columns = {'PLAYER_NAME':'Player',\n",
    "                                        'PLAYER_HEIGHT_INCHES':'Inches','PLAYER_WEIGHT':'Weight','TEAM_ABBREVIATION':'Team','AGE':'Age'})\n",
    "players_stats_df = players_stats_df.drop(columns = ['TEAM_ID'])\n",
    "players_stats_df = players_stats_df.dropna(subset = ['Inches','Weight'])\n",
    "players_stats_df = players_stats_df.astype({'Age':int,'Year':int,'Inches':int,'Weight':int})\n",
    "players_stats_df.info()"
   ]
  },
  {
   "cell_type": "markdown",
   "metadata": {},
   "source": [
    "#### Map remaining teams to full team name using team_name_dict"
   ]
  },
  {
   "cell_type": "code",
   "execution_count": 282,
   "metadata": {},
   "outputs": [
    {
     "data": {
      "text/html": [
       "<div>\n",
       "<style scoped>\n",
       "    .dataframe tbody tr th:only-of-type {\n",
       "        vertical-align: middle;\n",
       "    }\n",
       "\n",
       "    .dataframe tbody tr th {\n",
       "        vertical-align: top;\n",
       "    }\n",
       "\n",
       "    .dataframe thead th {\n",
       "        text-align: right;\n",
       "    }\n",
       "</style>\n",
       "<table border=\"1\" class=\"dataframe\">\n",
       "  <thead>\n",
       "    <tr style=\"text-align: right;\">\n",
       "      <th></th>\n",
       "      <th>Year</th>\n",
       "      <th>Player</th>\n",
       "      <th>Season</th>\n",
       "      <th>Team</th>\n",
       "      <th>Age</th>\n",
       "      <th>Inches</th>\n",
       "      <th>Weight</th>\n",
       "      <th>GP</th>\n",
       "      <th>MIN</th>\n",
       "      <th>REB</th>\n",
       "      <th>...</th>\n",
       "      <th>AVG_SPEED_DEF</th>\n",
       "      <th>PLAYER_ID</th>\n",
       "      <th>CONTESTED_SHOTS</th>\n",
       "      <th>CONTESTED_SHOTS_2PT</th>\n",
       "      <th>CONTESTED_SHOTS_3PT</th>\n",
       "      <th>BOX_OUTS</th>\n",
       "      <th>OFF_BOXOUTS</th>\n",
       "      <th>DEF_BOXOUTS</th>\n",
       "      <th>DEFLECTIONS</th>\n",
       "      <th>CHARGES_DRAWN</th>\n",
       "    </tr>\n",
       "  </thead>\n",
       "  <tbody>\n",
       "    <tr>\n",
       "      <th>0</th>\n",
       "      <td>2013</td>\n",
       "      <td>AJ Price</td>\n",
       "      <td>regular</td>\n",
       "      <td>Minnesota Timberwolves</td>\n",
       "      <td>27</td>\n",
       "      <td>74</td>\n",
       "      <td>195</td>\n",
       "      <td>28</td>\n",
       "      <td>3.5</td>\n",
       "      <td>0.4</td>\n",
       "      <td>...</td>\n",
       "      <td>3.96</td>\n",
       "      <td>201985</td>\n",
       "      <td>0.0</td>\n",
       "      <td>0.0</td>\n",
       "      <td>0.0</td>\n",
       "      <td>0.0</td>\n",
       "      <td>0.0</td>\n",
       "      <td>0.0</td>\n",
       "      <td>0.0</td>\n",
       "      <td>0.0</td>\n",
       "    </tr>\n",
       "    <tr>\n",
       "      <th>1</th>\n",
       "      <td>2013</td>\n",
       "      <td>Aaron Brooks</td>\n",
       "      <td>regular</td>\n",
       "      <td>Denver Nuggets</td>\n",
       "      <td>29</td>\n",
       "      <td>72</td>\n",
       "      <td>161</td>\n",
       "      <td>72</td>\n",
       "      <td>21.6</td>\n",
       "      <td>1.9</td>\n",
       "      <td>...</td>\n",
       "      <td>3.99</td>\n",
       "      <td>201166</td>\n",
       "      <td>0.0</td>\n",
       "      <td>0.0</td>\n",
       "      <td>0.0</td>\n",
       "      <td>0.0</td>\n",
       "      <td>0.0</td>\n",
       "      <td>0.0</td>\n",
       "      <td>0.0</td>\n",
       "      <td>0.0</td>\n",
       "    </tr>\n",
       "    <tr>\n",
       "      <th>2</th>\n",
       "      <td>2013</td>\n",
       "      <td>Aaron Gray</td>\n",
       "      <td>regular</td>\n",
       "      <td>Sacramento Kings</td>\n",
       "      <td>29</td>\n",
       "      <td>84</td>\n",
       "      <td>270</td>\n",
       "      <td>37</td>\n",
       "      <td>9.6</td>\n",
       "      <td>3.0</td>\n",
       "      <td>...</td>\n",
       "      <td>3.91</td>\n",
       "      <td>201189</td>\n",
       "      <td>0.0</td>\n",
       "      <td>0.0</td>\n",
       "      <td>0.0</td>\n",
       "      <td>0.0</td>\n",
       "      <td>0.0</td>\n",
       "      <td>0.0</td>\n",
       "      <td>0.0</td>\n",
       "      <td>0.0</td>\n",
       "    </tr>\n",
       "    <tr>\n",
       "      <th>3</th>\n",
       "      <td>2013</td>\n",
       "      <td>Adonis Thomas</td>\n",
       "      <td>regular</td>\n",
       "      <td>Philadelphia 76ers</td>\n",
       "      <td>21</td>\n",
       "      <td>79</td>\n",
       "      <td>240</td>\n",
       "      <td>6</td>\n",
       "      <td>6.3</td>\n",
       "      <td>0.5</td>\n",
       "      <td>...</td>\n",
       "      <td>4.16</td>\n",
       "      <td>203519</td>\n",
       "      <td>0.0</td>\n",
       "      <td>0.0</td>\n",
       "      <td>0.0</td>\n",
       "      <td>0.0</td>\n",
       "      <td>0.0</td>\n",
       "      <td>0.0</td>\n",
       "      <td>0.0</td>\n",
       "      <td>0.0</td>\n",
       "    </tr>\n",
       "    <tr>\n",
       "      <th>4</th>\n",
       "      <td>2013</td>\n",
       "      <td>Al Harrington</td>\n",
       "      <td>regular</td>\n",
       "      <td>Washington Wizards</td>\n",
       "      <td>34</td>\n",
       "      <td>81</td>\n",
       "      <td>245</td>\n",
       "      <td>34</td>\n",
       "      <td>15.0</td>\n",
       "      <td>2.4</td>\n",
       "      <td>...</td>\n",
       "      <td>3.80</td>\n",
       "      <td>1733</td>\n",
       "      <td>0.0</td>\n",
       "      <td>0.0</td>\n",
       "      <td>0.0</td>\n",
       "      <td>0.0</td>\n",
       "      <td>0.0</td>\n",
       "      <td>0.0</td>\n",
       "      <td>0.0</td>\n",
       "      <td>0.0</td>\n",
       "    </tr>\n",
       "  </tbody>\n",
       "</table>\n",
       "<p>5 rows × 30 columns</p>\n",
       "</div>"
      ],
      "text/plain": [
       "   Year         Player   Season                    Team  Age  Inches  Weight  \\\n",
       "0  2013       AJ Price  regular  Minnesota Timberwolves   27      74     195   \n",
       "1  2013   Aaron Brooks  regular          Denver Nuggets   29      72     161   \n",
       "2  2013     Aaron Gray  regular        Sacramento Kings   29      84     270   \n",
       "3  2013  Adonis Thomas  regular      Philadelphia 76ers   21      79     240   \n",
       "4  2013  Al Harrington  regular      Washington Wizards   34      81     245   \n",
       "\n",
       "   GP   MIN  REB  ...  AVG_SPEED_DEF  PLAYER_ID  CONTESTED_SHOTS  \\\n",
       "0  28   3.5  0.4  ...           3.96     201985              0.0   \n",
       "1  72  21.6  1.9  ...           3.99     201166              0.0   \n",
       "2  37   9.6  3.0  ...           3.91     201189              0.0   \n",
       "3   6   6.3  0.5  ...           4.16     203519              0.0   \n",
       "4  34  15.0  2.4  ...           3.80       1733              0.0   \n",
       "\n",
       "   CONTESTED_SHOTS_2PT  CONTESTED_SHOTS_3PT  BOX_OUTS  OFF_BOXOUTS  \\\n",
       "0                  0.0                  0.0       0.0          0.0   \n",
       "1                  0.0                  0.0       0.0          0.0   \n",
       "2                  0.0                  0.0       0.0          0.0   \n",
       "3                  0.0                  0.0       0.0          0.0   \n",
       "4                  0.0                  0.0       0.0          0.0   \n",
       "\n",
       "   DEF_BOXOUTS  DEFLECTIONS  CHARGES_DRAWN  \n",
       "0          0.0          0.0            0.0  \n",
       "1          0.0          0.0            0.0  \n",
       "2          0.0          0.0            0.0  \n",
       "3          0.0          0.0            0.0  \n",
       "4          0.0          0.0            0.0  \n",
       "\n",
       "[5 rows x 30 columns]"
      ]
     },
     "execution_count": 282,
     "metadata": {},
     "output_type": "execute_result"
    }
   ],
   "source": [
    "players_stats_df['Team'] = players_stats_df['Team'].replace(team_abrv_dict)\n",
    "players_stats_df.head()"
   ]
  },
  {
   "cell_type": "markdown",
   "metadata": {},
   "source": [
    "#### Format Players names:"
   ]
  },
  {
   "cell_type": "markdown",
   "metadata": {},
   "source": [
    "- Remove suffixes"
   ]
  },
  {
   "cell_type": "code",
   "execution_count": 283,
   "metadata": {},
   "outputs": [],
   "source": [
    "players_stats_df['Player'].replace(regex = ['Sr\\.'], value = '', inplace = True)\n",
    "players_stats_df['Player'].replace(regex = ['Jr\\.'], value = '', inplace = True)\n",
    "players_stats_df['Player'].replace(regex = ['IV'], value = '', inplace = True)\n",
    "players_stats_df['Player'].replace(regex = ['III'], value = '', inplace = True)\n",
    "players_stats_df['Player'].replace(regex = ['II'], value = '', inplace = True)"
   ]
  },
  {
   "cell_type": "markdown",
   "metadata": {},
   "source": [
    "- Remove *\n",
    "- Remove periods"
   ]
  },
  {
   "cell_type": "code",
   "execution_count": 284,
   "metadata": {},
   "outputs": [],
   "source": [
    "players_stats_df['Player'].replace('\\*', '',regex = True,inplace = True)\n",
    "players_stats_df['Player'].replace('\\.','', regex=True, inplace = True)"
   ]
  },
  {
   "cell_type": "markdown",
   "metadata": {},
   "source": [
    "- Extra white spaces\n",
    "- Strip accents"
   ]
  },
  {
   "cell_type": "code",
   "execution_count": 285,
   "metadata": {},
   "outputs": [],
   "source": [
    "players_stats_df['Player'] = players_stats_df['Player'].str.strip()\n",
    "players_stats_df['Player'] = players_stats_df['Player'].apply(strip_accents)"
   ]
  },
  {
   "cell_type": "markdown",
   "metadata": {},
   "source": [
    "#### Filter dataframe\n",
    "- Games played above??\n",
    "- Minutes played\n",
    "- Seasons with different conditions??"
   ]
  },
  {
   "cell_type": "code",
   "execution_count": 286,
   "metadata": {},
   "outputs": [],
   "source": [
    "pickle.dump(players_stats_df,open(DIR_CLEAN_DATA+'player_stats_cleaned.p', \"wb\" ))"
   ]
  },
  {
   "cell_type": "markdown",
   "metadata": {},
   "source": [
    "## Inactive List"
   ]
  },
  {
   "cell_type": "code",
   "execution_count": 287,
   "metadata": {},
   "outputs": [
    {
     "name": "stdout",
     "output_type": "stream",
     "text": [
      "<class 'pandas.core.frame.DataFrame'>\n",
      "RangeIndex: 20413 entries, 0 to 20412\n",
      "Data columns (total 5 columns):\n",
      " #   Column        Non-Null Count  Dtype \n",
      "---  ------        --------------  ----- \n",
      " 0   Date          20413 non-null  object\n",
      " 1   Team          20413 non-null  object\n",
      " 2   Acquired      9657 non-null   object\n",
      " 3   Relinquished  10755 non-null  object\n",
      " 4   Notes         20413 non-null  object\n",
      "dtypes: object(5)\n",
      "memory usage: 797.5+ KB\n"
     ]
    }
   ],
   "source": [
    "inactive_list_df = pd.read_csv(DIR_RAW_DATA+'inactive_list_scraped.csv')\n",
    "inactive_list_df.info()"
   ]
  },
  {
   "cell_type": "markdown",
   "metadata": {},
   "source": [
    "#### Format Date"
   ]
  },
  {
   "cell_type": "code",
   "execution_count": 288,
   "metadata": {},
   "outputs": [
    {
     "data": {
      "text/html": [
       "<div>\n",
       "<style scoped>\n",
       "    .dataframe tbody tr th:only-of-type {\n",
       "        vertical-align: middle;\n",
       "    }\n",
       "\n",
       "    .dataframe tbody tr th {\n",
       "        vertical-align: top;\n",
       "    }\n",
       "\n",
       "    .dataframe thead th {\n",
       "        text-align: right;\n",
       "    }\n",
       "</style>\n",
       "<table border=\"1\" class=\"dataframe\">\n",
       "  <thead>\n",
       "    <tr style=\"text-align: right;\">\n",
       "      <th></th>\n",
       "      <th>Date</th>\n",
       "      <th>Team</th>\n",
       "      <th>Acquired</th>\n",
       "      <th>Relinquished</th>\n",
       "      <th>Notes</th>\n",
       "    </tr>\n",
       "  </thead>\n",
       "  <tbody>\n",
       "    <tr>\n",
       "      <th>0</th>\n",
       "      <td>2010-10-26</td>\n",
       "      <td>Blazers</td>\n",
       "      <td>NaN</td>\n",
       "      <td>Elliot Williams</td>\n",
       "      <td>placed on IL</td>\n",
       "    </tr>\n",
       "    <tr>\n",
       "      <th>1</th>\n",
       "      <td>2010-10-26</td>\n",
       "      <td>Suns</td>\n",
       "      <td>NaN</td>\n",
       "      <td>Matt Janning</td>\n",
       "      <td>placed on IL</td>\n",
       "    </tr>\n",
       "    <tr>\n",
       "      <th>2</th>\n",
       "      <td>2010-10-26</td>\n",
       "      <td>Rockets</td>\n",
       "      <td>NaN</td>\n",
       "      <td>Patrick Patterson</td>\n",
       "      <td>placed on IL</td>\n",
       "    </tr>\n",
       "    <tr>\n",
       "      <th>3</th>\n",
       "      <td>2010-10-26</td>\n",
       "      <td>Rockets</td>\n",
       "      <td>NaN</td>\n",
       "      <td>Kyle Lowry</td>\n",
       "      <td>placed on IL with back spasms</td>\n",
       "    </tr>\n",
       "    <tr>\n",
       "      <th>4</th>\n",
       "      <td>2010-10-26</td>\n",
       "      <td>Rockets</td>\n",
       "      <td>NaN</td>\n",
       "      <td>Jermaine Taylor</td>\n",
       "      <td>placed on IL</td>\n",
       "    </tr>\n",
       "  </tbody>\n",
       "</table>\n",
       "</div>"
      ],
      "text/plain": [
       "        Date     Team Acquired       Relinquished  \\\n",
       "0 2010-10-26  Blazers      NaN    Elliot Williams   \n",
       "1 2010-10-26     Suns      NaN       Matt Janning   \n",
       "2 2010-10-26  Rockets      NaN  Patrick Patterson   \n",
       "3 2010-10-26  Rockets      NaN         Kyle Lowry   \n",
       "4 2010-10-26  Rockets      NaN    Jermaine Taylor   \n",
       "\n",
       "                           Notes  \n",
       "0                   placed on IL  \n",
       "1                   placed on IL  \n",
       "2                   placed on IL  \n",
       "3  placed on IL with back spasms  \n",
       "4                   placed on IL  "
      ]
     },
     "execution_count": 288,
     "metadata": {},
     "output_type": "execute_result"
    }
   ],
   "source": [
    "inactive_list_df['Date']=pd.to_datetime(inactive_list_df['Date'],infer_datetime_format=True)\n",
    "inactive_list_df.sort_values(by = 'Date', inplace = True)\n",
    "inactive_list_df.reset_index(drop = True, inplace = True)\n",
    "inactive_list_df.head()"
   ]
  },
  {
   "cell_type": "markdown",
   "metadata": {},
   "source": [
    "#### Filter dataframe by date to match with stats dataset date"
   ]
  },
  {
   "cell_type": "code",
   "execution_count": 289,
   "metadata": {},
   "outputs": [
    {
     "data": {
      "text/html": [
       "<div>\n",
       "<style scoped>\n",
       "    .dataframe tbody tr th:only-of-type {\n",
       "        vertical-align: middle;\n",
       "    }\n",
       "\n",
       "    .dataframe tbody tr th {\n",
       "        vertical-align: top;\n",
       "    }\n",
       "\n",
       "    .dataframe thead th {\n",
       "        text-align: right;\n",
       "    }\n",
       "</style>\n",
       "<table border=\"1\" class=\"dataframe\">\n",
       "  <thead>\n",
       "    <tr style=\"text-align: right;\">\n",
       "      <th></th>\n",
       "      <th>Date</th>\n",
       "      <th>Team</th>\n",
       "      <th>Acquired</th>\n",
       "      <th>Relinquished</th>\n",
       "      <th>Notes</th>\n",
       "    </tr>\n",
       "  </thead>\n",
       "  <tbody>\n",
       "    <tr>\n",
       "      <th>4048</th>\n",
       "      <td>2013-10-29</td>\n",
       "      <td>Magic</td>\n",
       "      <td>NaN</td>\n",
       "      <td>Hidayet Turkoglu / Hedo Turkoglu</td>\n",
       "      <td>placed on IL</td>\n",
       "    </tr>\n",
       "    <tr>\n",
       "      <th>4049</th>\n",
       "      <td>2013-10-29</td>\n",
       "      <td>Wizards</td>\n",
       "      <td>NaN</td>\n",
       "      <td>Otto Porter Jr.</td>\n",
       "      <td>placed on IL with strained right hip flexor</td>\n",
       "    </tr>\n",
       "    <tr>\n",
       "      <th>4050</th>\n",
       "      <td>2013-10-29</td>\n",
       "      <td>Magic</td>\n",
       "      <td>NaN</td>\n",
       "      <td>Glen Davis</td>\n",
       "      <td>placed on IL recovering from surgery to repair...</td>\n",
       "    </tr>\n",
       "    <tr>\n",
       "      <th>4051</th>\n",
       "      <td>2013-10-29</td>\n",
       "      <td>Suns</td>\n",
       "      <td>NaN</td>\n",
       "      <td>Emeka Okafor</td>\n",
       "      <td>placed on IL recovering from surgery on neck t...</td>\n",
       "    </tr>\n",
       "    <tr>\n",
       "      <th>4052</th>\n",
       "      <td>2013-10-29</td>\n",
       "      <td>Lakers</td>\n",
       "      <td>NaN</td>\n",
       "      <td>Kobe Bryant</td>\n",
       "      <td>placed on IL recovering from surgery to repair...</td>\n",
       "    </tr>\n",
       "  </tbody>\n",
       "</table>\n",
       "</div>"
      ],
      "text/plain": [
       "           Date     Team Acquired                      Relinquished  \\\n",
       "4048 2013-10-29    Magic      NaN  Hidayet Turkoglu / Hedo Turkoglu   \n",
       "4049 2013-10-29  Wizards      NaN                   Otto Porter Jr.   \n",
       "4050 2013-10-29    Magic      NaN                        Glen Davis   \n",
       "4051 2013-10-29     Suns      NaN                      Emeka Okafor   \n",
       "4052 2013-10-29   Lakers      NaN                       Kobe Bryant   \n",
       "\n",
       "                                                  Notes  \n",
       "4048                                       placed on IL  \n",
       "4049        placed on IL with strained right hip flexor  \n",
       "4050  placed on IL recovering from surgery to repair...  \n",
       "4051  placed on IL recovering from surgery on neck t...  \n",
       "4052  placed on IL recovering from surgery to repair...  "
      ]
     },
     "execution_count": 289,
     "metadata": {},
     "output_type": "execute_result"
    }
   ],
   "source": [
    "inactive_list_df = inactive_list_df[inactive_list_df['Date'] >= '2013-10-01']\n",
    "inactive_list_df.head()"
   ]
  },
  {
   "cell_type": "markdown",
   "metadata": {},
   "source": [
    "#### Format Players Teams\n",
    "- Handle special cases first (same mascot, two different cities - New Jersey Nets, Brooklyn Net, New Orleans Hornets, Charlotte Hornets)"
   ]
  },
  {
   "cell_type": "code",
   "execution_count": 290,
   "metadata": {},
   "outputs": [
    {
     "data": {
      "text/html": [
       "<div>\n",
       "<style scoped>\n",
       "    .dataframe tbody tr th:only-of-type {\n",
       "        vertical-align: middle;\n",
       "    }\n",
       "\n",
       "    .dataframe tbody tr th {\n",
       "        vertical-align: top;\n",
       "    }\n",
       "\n",
       "    .dataframe thead th {\n",
       "        text-align: right;\n",
       "    }\n",
       "</style>\n",
       "<table border=\"1\" class=\"dataframe\">\n",
       "  <thead>\n",
       "    <tr style=\"text-align: right;\">\n",
       "      <th></th>\n",
       "      <th>Date</th>\n",
       "      <th>Team</th>\n",
       "      <th>Acquired</th>\n",
       "      <th>Relinquished</th>\n",
       "      <th>Notes</th>\n",
       "    </tr>\n",
       "  </thead>\n",
       "  <tbody>\n",
       "    <tr>\n",
       "      <th>4048</th>\n",
       "      <td>2013-10-29</td>\n",
       "      <td>Magic</td>\n",
       "      <td>NaN</td>\n",
       "      <td>Hidayet Turkoglu / Hedo Turkoglu</td>\n",
       "      <td>placed on IL</td>\n",
       "    </tr>\n",
       "    <tr>\n",
       "      <th>4049</th>\n",
       "      <td>2013-10-29</td>\n",
       "      <td>Wizards</td>\n",
       "      <td>NaN</td>\n",
       "      <td>Otto Porter Jr.</td>\n",
       "      <td>placed on IL with strained right hip flexor</td>\n",
       "    </tr>\n",
       "    <tr>\n",
       "      <th>4050</th>\n",
       "      <td>2013-10-29</td>\n",
       "      <td>Magic</td>\n",
       "      <td>NaN</td>\n",
       "      <td>Glen Davis</td>\n",
       "      <td>placed on IL recovering from surgery to repair...</td>\n",
       "    </tr>\n",
       "    <tr>\n",
       "      <th>4051</th>\n",
       "      <td>2013-10-29</td>\n",
       "      <td>Suns</td>\n",
       "      <td>NaN</td>\n",
       "      <td>Emeka Okafor</td>\n",
       "      <td>placed on IL recovering from surgery on neck t...</td>\n",
       "    </tr>\n",
       "    <tr>\n",
       "      <th>4052</th>\n",
       "      <td>2013-10-29</td>\n",
       "      <td>Lakers</td>\n",
       "      <td>NaN</td>\n",
       "      <td>Kobe Bryant</td>\n",
       "      <td>placed on IL recovering from surgery to repair...</td>\n",
       "    </tr>\n",
       "  </tbody>\n",
       "</table>\n",
       "</div>"
      ],
      "text/plain": [
       "           Date     Team Acquired                      Relinquished  \\\n",
       "4048 2013-10-29    Magic      NaN  Hidayet Turkoglu / Hedo Turkoglu   \n",
       "4049 2013-10-29  Wizards      NaN                   Otto Porter Jr.   \n",
       "4050 2013-10-29    Magic      NaN                        Glen Davis   \n",
       "4051 2013-10-29     Suns      NaN                      Emeka Okafor   \n",
       "4052 2013-10-29   Lakers      NaN                       Kobe Bryant   \n",
       "\n",
       "                                                  Notes  \n",
       "4048                                       placed on IL  \n",
       "4049        placed on IL with strained right hip flexor  \n",
       "4050  placed on IL recovering from surgery to repair...  \n",
       "4051  placed on IL recovering from surgery on neck t...  \n",
       "4052  placed on IL recovering from surgery to repair...  "
      ]
     },
     "execution_count": 290,
     "metadata": {},
     "output_type": "execute_result"
    }
   ],
   "source": [
    "inactive_list_df.loc[((inactive_list_df['Team'] == 'Nets') & (inactive_list_df['Date'] <= pd.to_datetime('2012-06-18',infer_datetime_format=True))), 'Team'] = 'New Jersey Nets'\n",
    "inactive_list_df.loc[((inactive_list_df['Team'] == 'Nets') & (inactive_list_df['Date'] >= pd.to_datetime('2012-06-18',infer_datetime_format=True))), 'Team'] = 'Brooklyn Nets'\n",
    "inactive_list_df.loc[((inactive_list_df['Team'] == 'Hornets') & (inactive_list_df['Date'] <= pd.to_datetime('2013-06-18',infer_datetime_format=True))), 'Team'] = 'New Orleans Hornets'\n",
    "inactive_list_df.loc[((inactive_list_df['Team'] == 'Hornets') & (inactive_list_df['Date'] >= pd.to_datetime('2013-06-18',infer_datetime_format=True))), 'Team'] = 'Charlotte Hornets'\n",
    "inactive_list_df.head()"
   ]
  },
  {
   "cell_type": "markdown",
   "metadata": {},
   "source": [
    "- Map remaining teams to full team name using team_name_dict"
   ]
  },
  {
   "cell_type": "code",
   "execution_count": 291,
   "metadata": {},
   "outputs": [
    {
     "data": {
      "text/html": [
       "<div>\n",
       "<style scoped>\n",
       "    .dataframe tbody tr th:only-of-type {\n",
       "        vertical-align: middle;\n",
       "    }\n",
       "\n",
       "    .dataframe tbody tr th {\n",
       "        vertical-align: top;\n",
       "    }\n",
       "\n",
       "    .dataframe thead th {\n",
       "        text-align: right;\n",
       "    }\n",
       "</style>\n",
       "<table border=\"1\" class=\"dataframe\">\n",
       "  <thead>\n",
       "    <tr style=\"text-align: right;\">\n",
       "      <th></th>\n",
       "      <th>Date</th>\n",
       "      <th>Team</th>\n",
       "      <th>Acquired</th>\n",
       "      <th>Relinquished</th>\n",
       "      <th>Notes</th>\n",
       "    </tr>\n",
       "  </thead>\n",
       "  <tbody>\n",
       "    <tr>\n",
       "      <th>4048</th>\n",
       "      <td>2013-10-29</td>\n",
       "      <td>Orlando Magic</td>\n",
       "      <td>NaN</td>\n",
       "      <td>Hidayet Turkoglu / Hedo Turkoglu</td>\n",
       "      <td>placed on IL</td>\n",
       "    </tr>\n",
       "    <tr>\n",
       "      <th>4049</th>\n",
       "      <td>2013-10-29</td>\n",
       "      <td>Washington Wizards</td>\n",
       "      <td>NaN</td>\n",
       "      <td>Otto Porter Jr.</td>\n",
       "      <td>placed on IL with strained right hip flexor</td>\n",
       "    </tr>\n",
       "    <tr>\n",
       "      <th>4050</th>\n",
       "      <td>2013-10-29</td>\n",
       "      <td>Orlando Magic</td>\n",
       "      <td>NaN</td>\n",
       "      <td>Glen Davis</td>\n",
       "      <td>placed on IL recovering from surgery to repair...</td>\n",
       "    </tr>\n",
       "    <tr>\n",
       "      <th>4051</th>\n",
       "      <td>2013-10-29</td>\n",
       "      <td>Phoenix Suns</td>\n",
       "      <td>NaN</td>\n",
       "      <td>Emeka Okafor</td>\n",
       "      <td>placed on IL recovering from surgery on neck t...</td>\n",
       "    </tr>\n",
       "    <tr>\n",
       "      <th>4052</th>\n",
       "      <td>2013-10-29</td>\n",
       "      <td>Los Angeles Lakers</td>\n",
       "      <td>NaN</td>\n",
       "      <td>Kobe Bryant</td>\n",
       "      <td>placed on IL recovering from surgery to repair...</td>\n",
       "    </tr>\n",
       "  </tbody>\n",
       "</table>\n",
       "</div>"
      ],
      "text/plain": [
       "           Date                Team Acquired  \\\n",
       "4048 2013-10-29       Orlando Magic      NaN   \n",
       "4049 2013-10-29  Washington Wizards      NaN   \n",
       "4050 2013-10-29       Orlando Magic      NaN   \n",
       "4051 2013-10-29        Phoenix Suns      NaN   \n",
       "4052 2013-10-29  Los Angeles Lakers      NaN   \n",
       "\n",
       "                          Relinquished  \\\n",
       "4048  Hidayet Turkoglu / Hedo Turkoglu   \n",
       "4049                   Otto Porter Jr.   \n",
       "4050                        Glen Davis   \n",
       "4051                      Emeka Okafor   \n",
       "4052                       Kobe Bryant   \n",
       "\n",
       "                                                  Notes  \n",
       "4048                                       placed on IL  \n",
       "4049        placed on IL with strained right hip flexor  \n",
       "4050  placed on IL recovering from surgery to repair...  \n",
       "4051  placed on IL recovering from surgery on neck t...  \n",
       "4052  placed on IL recovering from surgery to repair...  "
      ]
     },
     "execution_count": 291,
     "metadata": {},
     "output_type": "execute_result"
    }
   ],
   "source": [
    "inactive_list_df['Team'] = inactive_list_df['Team'].map(team_nick_dict)\n",
    "inactive_list_df.head()"
   ]
  },
  {
   "cell_type": "markdown",
   "metadata": {},
   "source": [
    "- Drop rows with no team name"
   ]
  },
  {
   "cell_type": "code",
   "execution_count": 292,
   "metadata": {},
   "outputs": [
    {
     "name": "stdout",
     "output_type": "stream",
     "text": [
      "Rows: 16365\n",
      "Rows: 16364\n"
     ]
    }
   ],
   "source": [
    "print(f'Rows: {inactive_list_df.shape[0]}')\n",
    "inactive_list_df.drop(index = inactive_list_df[inactive_list_df['Team'].isnull()].index, inplace = True)\n",
    "print(f'Rows: {inactive_list_df.shape[0]}')"
   ]
  },
  {
   "cell_type": "markdown",
   "metadata": {},
   "source": [
    "#### Standardize Players Names"
   ]
  },
  {
   "cell_type": "markdown",
   "metadata": {},
   "source": [
    "- Separate out player names (some players have multiple names, each separated by a \"/\")"
   ]
  },
  {
   "cell_type": "code",
   "execution_count": 293,
   "metadata": {},
   "outputs": [
    {
     "data": {
      "text/html": [
       "<div>\n",
       "<style scoped>\n",
       "    .dataframe tbody tr th:only-of-type {\n",
       "        vertical-align: middle;\n",
       "    }\n",
       "\n",
       "    .dataframe tbody tr th {\n",
       "        vertical-align: top;\n",
       "    }\n",
       "\n",
       "    .dataframe thead th {\n",
       "        text-align: right;\n",
       "    }\n",
       "</style>\n",
       "<table border=\"1\" class=\"dataframe\">\n",
       "  <thead>\n",
       "    <tr style=\"text-align: right;\">\n",
       "      <th></th>\n",
       "      <th>Player</th>\n",
       "      <th>Alt_name_1</th>\n",
       "      <th>Alt_name_2</th>\n",
       "    </tr>\n",
       "  </thead>\n",
       "  <tbody>\n",
       "    <tr>\n",
       "      <th>4048</th>\n",
       "      <td>Hidayet Turkoglu</td>\n",
       "      <td>Hedo Turkoglu</td>\n",
       "      <td></td>\n",
       "    </tr>\n",
       "    <tr>\n",
       "      <th>4049</th>\n",
       "      <td>Otto Porter Jr.</td>\n",
       "      <td></td>\n",
       "      <td></td>\n",
       "    </tr>\n",
       "    <tr>\n",
       "      <th>4050</th>\n",
       "      <td>Glen Davis</td>\n",
       "      <td></td>\n",
       "      <td></td>\n",
       "    </tr>\n",
       "    <tr>\n",
       "      <th>4051</th>\n",
       "      <td>Emeka Okafor</td>\n",
       "      <td></td>\n",
       "      <td></td>\n",
       "    </tr>\n",
       "    <tr>\n",
       "      <th>4052</th>\n",
       "      <td>Kobe Bryant</td>\n",
       "      <td></td>\n",
       "      <td></td>\n",
       "    </tr>\n",
       "  </tbody>\n",
       "</table>\n",
       "</div>"
      ],
      "text/plain": [
       "                 Player      Alt_name_1 Alt_name_2\n",
       "4048  Hidayet Turkoglu    Hedo Turkoglu           \n",
       "4049    Otto Porter Jr.                           \n",
       "4050         Glen Davis                           \n",
       "4051       Emeka Okafor                           \n",
       "4052        Kobe Bryant                           "
      ]
     },
     "execution_count": 293,
     "metadata": {},
     "output_type": "execute_result"
    }
   ],
   "source": [
    "all_events_names = inactive_list_df['Acquired'].fillna('') + inactive_list_df['Relinquished'].fillna('')\n",
    "aliases_df = all_events_names.str.split(pat = '/', expand = True)\n",
    "aliases_df.columns = ['Player', 'Alt_name_1', 'Alt_name_2'] \n",
    "aliases_df['Alt_name_1'].fillna(' ',inplace = True)\n",
    "aliases_df['Alt_name_2'].fillna(' ',inplace = True)\n",
    "aliases_df.head()"
   ]
  },
  {
   "cell_type": "markdown",
   "metadata": {},
   "source": [
    "- Remove any strings in parentheses in player names (removes parentheses and the string within the parentheses)"
   ]
  },
  {
   "cell_type": "code",
   "execution_count": 294,
   "metadata": {},
   "outputs": [],
   "source": [
    "aliases_df.replace(regex = ['\\(.*?\\)'], value = '', inplace = True)"
   ]
  },
  {
   "cell_type": "markdown",
   "metadata": {},
   "source": [
    "- Remove suffixes on player names"
   ]
  },
  {
   "cell_type": "code",
   "execution_count": 295,
   "metadata": {},
   "outputs": [],
   "source": [
    "aliases_df.replace(regex = ['Sr\\.'], value = '', inplace = True)\n",
    "aliases_df.replace(regex = ['Jr\\.'], value = '', inplace = True)\n",
    "aliases_df.replace(regex = ['III'], value = '', inplace = True)\n",
    "aliases_df.replace(regex = ['IV'], value = '', inplace = True)\n",
    "aliases_df.replace(regex = ['II'], value = '', inplace = True)"
   ]
  },
  {
   "cell_type": "markdown",
   "metadata": {},
   "source": [
    "- Remove periods in player names"
   ]
  },
  {
   "cell_type": "code",
   "execution_count": 296,
   "metadata": {},
   "outputs": [],
   "source": [
    "aliases_df['Player'].replace('\\.', '', regex=True, inplace = True)\n",
    "aliases_df['Alt_name_1'].replace('\\.', '', regex=True, inplace = True)\n",
    "aliases_df['Alt_name_2'].replace('\\.', '', regex=True, inplace = True)"
   ]
  },
  {
   "cell_type": "markdown",
   "metadata": {},
   "source": [
    "- Remove extra white spaces at the start or end of player names"
   ]
  },
  {
   "cell_type": "code",
   "execution_count": 297,
   "metadata": {},
   "outputs": [],
   "source": [
    "aliases_df['Player']= aliases_df['Player'].str.strip()\n",
    "aliases_df['Alt_name_1']= aliases_df['Alt_name_1'].str.strip()\n",
    "aliases_df['Alt_name_2']= aliases_df['Alt_name_2'].str.strip()"
   ]
  },
  {
   "cell_type": "markdown",
   "metadata": {},
   "source": [
    "- Strip accents"
   ]
  },
  {
   "cell_type": "code",
   "execution_count": 298,
   "metadata": {},
   "outputs": [],
   "source": [
    "aliases_df['Player']= aliases_df['Player'].apply(strip_accents)\n",
    "aliases_df['Alt_name_1']= aliases_df['Alt_name_1'].apply(strip_accents)\n",
    "aliases_df['Alt_name_2']= aliases_df['Alt_name_2'].apply(strip_accents)"
   ]
  },
  {
   "cell_type": "code",
   "execution_count": 299,
   "metadata": {},
   "outputs": [],
   "source": [
    "def player_name_standardizer(aliases_df,names_with_stats_series):\n",
    "\n",
    "    \"\"\" This function standardizes player name spelling. The spelling of player \n",
    "    names in the 'aliases_df' dataframes may not match those\n",
    "    found in the 'names_with_stats_series' pandas series. The 'aliases_df'\n",
    "    contain up to three different spellings for each player's name \n",
    "    (columns 'Player', 'Name_alt_1', Name_alt_2'). This function finds which of these\n",
    "    three names matches the player name in the 'names_with_stats_series'. \n",
    "    \n",
    "    Input: aliases_df; names_with_stats_series\n",
    "    \n",
    "    Output: a dictionary for standardizing spelling. Keys are player names found\n",
    "    in 'Player' column in 'aliases_df'. Value is corresponding spelling of \n",
    "    player name in 'names_with_stats_series'. If no match is found, 'No Match'\n",
    "    is the value.\n",
    "    \n",
    "    Use this dicitionary to standardize player spellings\n",
    "    \"\"\"\n",
    "\n",
    "    aliases_unique_player_df = aliases_df.drop_duplicates('Player')\n",
    "    aliases_unique_player_df['Name_to_use'] = ''\n",
    "\n",
    "    ps_unique_player_series = names_with_stats_series\n",
    "\n",
    "    for row in aliases_unique_player_df.itertuples():\n",
    "        if not ps_unique_player_series[ps_unique_player_series.isin([row.Player])].empty:\n",
    "            aliases_unique_player_df['Name_to_use'][row.Index] = row.Player\n",
    "        elif ps_unique_player_series[ps_unique_player_series.isin([row.Player])].empty:\n",
    "            if not ps_unique_player_series[ps_unique_player_series.isin([row.Alt_name_1])].empty:\n",
    "                aliases_unique_player_df['Name_to_use'][row.Index] = row.Alt_name_1\n",
    "            elif ps_unique_player_series[ps_unique_player_series.isin([row.Alt_name_1])].empty:  \n",
    "                if not ps_unique_player_series[ps_unique_player_series.isin([row.Alt_name_2])].empty:\n",
    "                    aliases_unique_player_df['Name_to_use'][row.Index] = row.Alt_name_2\n",
    "                elif ps_unique_player_series[ps_unique_player_series.isin([row.Alt_name_2])].empty:\n",
    "                    aliases_unique_player_df['Name_to_use'][row.Index] = 'No Match'\n",
    "        else:\n",
    "            aliases_unique_player_df['Name_to_use'][row.Index] = 'No Match'\n",
    "            \n",
    "    name_dictionary = dict(zip(aliases_unique_player_df.Player, aliases_unique_player_df.Name_to_use))\n",
    "    \n",
    "    return name_dictionary"
   ]
  },
  {
   "cell_type": "code",
   "execution_count": 300,
   "metadata": {},
   "outputs": [
    {
     "name": "stderr",
     "output_type": "stream",
     "text": [
      "/tmp/ipykernel_16624/4270920891.py:21: SettingWithCopyWarning: \n",
      "A value is trying to be set on a copy of a slice from a DataFrame.\n",
      "Try using .loc[row_indexer,col_indexer] = value instead\n",
      "\n",
      "See the caveats in the documentation: https://pandas.pydata.org/pandas-docs/stable/user_guide/indexing.html#returning-a-view-versus-a-copy\n",
      "  aliases_unique_player_df['Name_to_use'] = ''\n",
      "/tmp/ipykernel_16624/4270920891.py:30: SettingWithCopyWarning: \n",
      "A value is trying to be set on a copy of a slice from a DataFrame\n",
      "\n",
      "See the caveats in the documentation: https://pandas.pydata.org/pandas-docs/stable/user_guide/indexing.html#returning-a-view-versus-a-copy\n",
      "  aliases_unique_player_df['Name_to_use'][row.Index] = row.Alt_name_1\n",
      "/tmp/ipykernel_16624/4270920891.py:27: SettingWithCopyWarning: \n",
      "A value is trying to be set on a copy of a slice from a DataFrame\n",
      "\n",
      "See the caveats in the documentation: https://pandas.pydata.org/pandas-docs/stable/user_guide/indexing.html#returning-a-view-versus-a-copy\n",
      "  aliases_unique_player_df['Name_to_use'][row.Index] = row.Player\n",
      "/tmp/ipykernel_16624/4270920891.py:35: SettingWithCopyWarning: \n",
      "A value is trying to be set on a copy of a slice from a DataFrame\n",
      "\n",
      "See the caveats in the documentation: https://pandas.pydata.org/pandas-docs/stable/user_guide/indexing.html#returning-a-view-versus-a-copy\n",
      "  aliases_unique_player_df['Name_to_use'][row.Index] = 'No Match'\n",
      "/tmp/ipykernel_16624/4270920891.py:33: SettingWithCopyWarning: \n",
      "A value is trying to be set on a copy of a slice from a DataFrame\n",
      "\n",
      "See the caveats in the documentation: https://pandas.pydata.org/pandas-docs/stable/user_guide/indexing.html#returning-a-view-versus-a-copy\n",
      "  aliases_unique_player_df['Name_to_use'][row.Index] = row.Alt_name_2\n"
     ]
    }
   ],
   "source": [
    "player_stats_unique_player_df = players_stats_df.drop_duplicates('Player')\n",
    "player_names_series = player_stats_unique_player_df['Player']\n",
    "player_spelling_dict = player_name_standardizer(aliases_df,player_names_series)"
   ]
  },
  {
   "cell_type": "code",
   "execution_count": 301,
   "metadata": {},
   "outputs": [
    {
     "data": {
      "text/html": [
       "<div>\n",
       "<style scoped>\n",
       "    .dataframe tbody tr th:only-of-type {\n",
       "        vertical-align: middle;\n",
       "    }\n",
       "\n",
       "    .dataframe tbody tr th {\n",
       "        vertical-align: top;\n",
       "    }\n",
       "\n",
       "    .dataframe thead th {\n",
       "        text-align: right;\n",
       "    }\n",
       "</style>\n",
       "<table border=\"1\" class=\"dataframe\">\n",
       "  <thead>\n",
       "    <tr style=\"text-align: right;\">\n",
       "      <th></th>\n",
       "      <th>Date</th>\n",
       "      <th>Team</th>\n",
       "      <th>Acquired</th>\n",
       "      <th>Relinquished</th>\n",
       "      <th>Notes</th>\n",
       "      <th>Player</th>\n",
       "    </tr>\n",
       "  </thead>\n",
       "  <tbody>\n",
       "    <tr>\n",
       "      <th>4048</th>\n",
       "      <td>2013-10-29</td>\n",
       "      <td>Orlando Magic</td>\n",
       "      <td>NaN</td>\n",
       "      <td>Hidayet Turkoglu / Hedo Turkoglu</td>\n",
       "      <td>placed on IL</td>\n",
       "      <td>Hedo Turkoglu</td>\n",
       "    </tr>\n",
       "    <tr>\n",
       "      <th>4049</th>\n",
       "      <td>2013-10-29</td>\n",
       "      <td>Washington Wizards</td>\n",
       "      <td>NaN</td>\n",
       "      <td>Otto Porter Jr.</td>\n",
       "      <td>placed on IL with strained right hip flexor</td>\n",
       "      <td>Otto Porter</td>\n",
       "    </tr>\n",
       "    <tr>\n",
       "      <th>4050</th>\n",
       "      <td>2013-10-29</td>\n",
       "      <td>Orlando Magic</td>\n",
       "      <td>NaN</td>\n",
       "      <td>Glen Davis</td>\n",
       "      <td>placed on IL recovering from surgery to repair...</td>\n",
       "      <td>Glen Davis</td>\n",
       "    </tr>\n",
       "    <tr>\n",
       "      <th>4051</th>\n",
       "      <td>2013-10-29</td>\n",
       "      <td>Phoenix Suns</td>\n",
       "      <td>NaN</td>\n",
       "      <td>Emeka Okafor</td>\n",
       "      <td>placed on IL recovering from surgery on neck t...</td>\n",
       "      <td>Emeka Okafor</td>\n",
       "    </tr>\n",
       "    <tr>\n",
       "      <th>4052</th>\n",
       "      <td>2013-10-29</td>\n",
       "      <td>Los Angeles Lakers</td>\n",
       "      <td>NaN</td>\n",
       "      <td>Kobe Bryant</td>\n",
       "      <td>placed on IL recovering from surgery to repair...</td>\n",
       "      <td>Kobe Bryant</td>\n",
       "    </tr>\n",
       "  </tbody>\n",
       "</table>\n",
       "</div>"
      ],
      "text/plain": [
       "           Date                Team Acquired  \\\n",
       "4048 2013-10-29       Orlando Magic      NaN   \n",
       "4049 2013-10-29  Washington Wizards      NaN   \n",
       "4050 2013-10-29       Orlando Magic      NaN   \n",
       "4051 2013-10-29        Phoenix Suns      NaN   \n",
       "4052 2013-10-29  Los Angeles Lakers      NaN   \n",
       "\n",
       "                          Relinquished  \\\n",
       "4048  Hidayet Turkoglu / Hedo Turkoglu   \n",
       "4049                   Otto Porter Jr.   \n",
       "4050                        Glen Davis   \n",
       "4051                      Emeka Okafor   \n",
       "4052                       Kobe Bryant   \n",
       "\n",
       "                                                  Notes         Player  \n",
       "4048                                       placed on IL  Hedo Turkoglu  \n",
       "4049        placed on IL with strained right hip flexor    Otto Porter  \n",
       "4050  placed on IL recovering from surgery to repair...     Glen Davis  \n",
       "4051  placed on IL recovering from surgery on neck t...   Emeka Okafor  \n",
       "4052  placed on IL recovering from surgery to repair...    Kobe Bryant  "
      ]
     },
     "execution_count": 301,
     "metadata": {},
     "output_type": "execute_result"
    }
   ],
   "source": [
    "aliases_df['Player'] = aliases_df['Player'].map(player_spelling_dict)\n",
    "inactive_list_df['Player'] = aliases_df['Player']\n",
    "inactive_list_df.head()"
   ]
  },
  {
   "cell_type": "code",
   "execution_count": 302,
   "metadata": {},
   "outputs": [
    {
     "data": {
      "text/plain": [
       "array(['Carlos Delfino', 'Lamar Odom', 'Patric Young',\n",
       "       'Roy Devyn Marble / Roy Marble (Devyn)', 'Patrick Christopher',\n",
       "       'Chris Wilcox', 'Yakuba Ouattara / Billy Ouattara', 'Mike Young',\n",
       "       'Eric Griffin', 'D.J. Augustine', '76ers', '', '11/25/2019',\n",
       "       'left wrist injury (DTD)',\n",
       "       'placed on IL with torn labrum in right hip',\n",
       "       'placed on IL with bruised right hip', 'Jason Preston',\n",
       "       'Daulton Hommes', 'NBA health and safety protocols (DTD)',\n",
       "       'Malik Ellison', 'placed on IL with right Achilles tendon injury',\n",
       "       'placed on IL with surgery on right knee',\n",
       "       'placed on IL with left knee injury'], dtype=object)"
      ]
     },
     "execution_count": 302,
     "metadata": {},
     "output_type": "execute_result"
    }
   ],
   "source": [
    "inactive_list_no_match_df = inactive_list_df[inactive_list_df['Player'] == 'No Match']\n",
    "all_events_names_no_match = inactive_list_no_match_df['Acquired'].fillna('') + inactive_list_no_match_df['Relinquished'].fillna('')\n",
    "all_events_names_no_match.unique()"
   ]
  },
  {
   "cell_type": "code",
   "execution_count": 303,
   "metadata": {},
   "outputs": [
    {
     "data": {
      "text/html": [
       "<div>\n",
       "<style scoped>\n",
       "    .dataframe tbody tr th:only-of-type {\n",
       "        vertical-align: middle;\n",
       "    }\n",
       "\n",
       "    .dataframe tbody tr th {\n",
       "        vertical-align: top;\n",
       "    }\n",
       "\n",
       "    .dataframe thead th {\n",
       "        text-align: right;\n",
       "    }\n",
       "</style>\n",
       "<table border=\"1\" class=\"dataframe\">\n",
       "  <thead>\n",
       "    <tr style=\"text-align: right;\">\n",
       "      <th></th>\n",
       "      <th>Date</th>\n",
       "      <th>Team</th>\n",
       "      <th>Acquired</th>\n",
       "      <th>Relinquished</th>\n",
       "      <th>Notes</th>\n",
       "      <th>Player</th>\n",
       "    </tr>\n",
       "  </thead>\n",
       "  <tbody>\n",
       "    <tr>\n",
       "      <th>4048</th>\n",
       "      <td>2013-10-29</td>\n",
       "      <td>Orlando Magic</td>\n",
       "      <td>NaN</td>\n",
       "      <td>Hidayet Turkoglu / Hedo Turkoglu</td>\n",
       "      <td>placed on IL</td>\n",
       "      <td>Hedo Turkoglu</td>\n",
       "    </tr>\n",
       "    <tr>\n",
       "      <th>4049</th>\n",
       "      <td>2013-10-29</td>\n",
       "      <td>Washington Wizards</td>\n",
       "      <td>NaN</td>\n",
       "      <td>Otto Porter Jr.</td>\n",
       "      <td>placed on IL with strained right hip flexor</td>\n",
       "      <td>Otto Porter</td>\n",
       "    </tr>\n",
       "    <tr>\n",
       "      <th>4050</th>\n",
       "      <td>2013-10-29</td>\n",
       "      <td>Orlando Magic</td>\n",
       "      <td>NaN</td>\n",
       "      <td>Glen Davis</td>\n",
       "      <td>placed on IL recovering from surgery to repair...</td>\n",
       "      <td>Glen Davis</td>\n",
       "    </tr>\n",
       "    <tr>\n",
       "      <th>4051</th>\n",
       "      <td>2013-10-29</td>\n",
       "      <td>Phoenix Suns</td>\n",
       "      <td>NaN</td>\n",
       "      <td>Emeka Okafor</td>\n",
       "      <td>placed on IL recovering from surgery on neck t...</td>\n",
       "      <td>Emeka Okafor</td>\n",
       "    </tr>\n",
       "    <tr>\n",
       "      <th>4052</th>\n",
       "      <td>2013-10-29</td>\n",
       "      <td>Los Angeles Lakers</td>\n",
       "      <td>NaN</td>\n",
       "      <td>Kobe Bryant</td>\n",
       "      <td>placed on IL recovering from surgery to repair...</td>\n",
       "      <td>Kobe Bryant</td>\n",
       "    </tr>\n",
       "  </tbody>\n",
       "</table>\n",
       "</div>"
      ],
      "text/plain": [
       "           Date                Team Acquired  \\\n",
       "4048 2013-10-29       Orlando Magic      NaN   \n",
       "4049 2013-10-29  Washington Wizards      NaN   \n",
       "4050 2013-10-29       Orlando Magic      NaN   \n",
       "4051 2013-10-29        Phoenix Suns      NaN   \n",
       "4052 2013-10-29  Los Angeles Lakers      NaN   \n",
       "\n",
       "                          Relinquished  \\\n",
       "4048  Hidayet Turkoglu / Hedo Turkoglu   \n",
       "4049                   Otto Porter Jr.   \n",
       "4050                        Glen Davis   \n",
       "4051                      Emeka Okafor   \n",
       "4052                       Kobe Bryant   \n",
       "\n",
       "                                                  Notes         Player  \n",
       "4048                                       placed on IL  Hedo Turkoglu  \n",
       "4049        placed on IL with strained right hip flexor    Otto Porter  \n",
       "4050  placed on IL recovering from surgery to repair...     Glen Davis  \n",
       "4051  placed on IL recovering from surgery on neck t...   Emeka Okafor  \n",
       "4052  placed on IL recovering from surgery to repair...    Kobe Bryant  "
      ]
     },
     "execution_count": 303,
     "metadata": {},
     "output_type": "execute_result"
    }
   ],
   "source": [
    "inactive_list_df = inactive_list_df[inactive_list_df['Player'] != 'No Match']\n",
    "inactive_list_df.head()"
   ]
  },
  {
   "cell_type": "code",
   "execution_count": 308,
   "metadata": {},
   "outputs": [
    {
     "ename": "KeyError",
     "evalue": "'Acquired'",
     "output_type": "error",
     "traceback": [
      "\u001b[0;31m---------------------------------------------------------------------------\u001b[0m",
      "\u001b[0;31mKeyError\u001b[0m                                  Traceback (most recent call last)",
      "File \u001b[0;32m~/anaconda3/envs/nba_venv/lib/python3.9/site-packages/pandas/core/indexes/base.py:3803\u001b[0m, in \u001b[0;36mIndex.get_loc\u001b[0;34m(self, key, method, tolerance)\u001b[0m\n\u001b[1;32m   3802\u001b[0m \u001b[39mtry\u001b[39;00m:\n\u001b[0;32m-> 3803\u001b[0m     \u001b[39mreturn\u001b[39;00m \u001b[39mself\u001b[39;49m\u001b[39m.\u001b[39;49m_engine\u001b[39m.\u001b[39;49mget_loc(casted_key)\n\u001b[1;32m   3804\u001b[0m \u001b[39mexcept\u001b[39;00m \u001b[39mKeyError\u001b[39;00m \u001b[39mas\u001b[39;00m err:\n",
      "File \u001b[0;32m~/anaconda3/envs/nba_venv/lib/python3.9/site-packages/pandas/_libs/index.pyx:138\u001b[0m, in \u001b[0;36mpandas._libs.index.IndexEngine.get_loc\u001b[0;34m()\u001b[0m\n",
      "File \u001b[0;32m~/anaconda3/envs/nba_venv/lib/python3.9/site-packages/pandas/_libs/index.pyx:165\u001b[0m, in \u001b[0;36mpandas._libs.index.IndexEngine.get_loc\u001b[0;34m()\u001b[0m\n",
      "File \u001b[0;32mpandas/_libs/hashtable_class_helper.pxi:5745\u001b[0m, in \u001b[0;36mpandas._libs.hashtable.PyObjectHashTable.get_item\u001b[0;34m()\u001b[0m\n",
      "File \u001b[0;32mpandas/_libs/hashtable_class_helper.pxi:5753\u001b[0m, in \u001b[0;36mpandas._libs.hashtable.PyObjectHashTable.get_item\u001b[0;34m()\u001b[0m\n",
      "\u001b[0;31mKeyError\u001b[0m: 'Acquired'",
      "\nThe above exception was the direct cause of the following exception:\n",
      "\u001b[0;31mKeyError\u001b[0m                                  Traceback (most recent call last)",
      "\u001b[1;32m/home/therealalex/Desktop/MECD/IACH/Project/nba-injury-prediction/cleaning.ipynb Cell 49\u001b[0m in \u001b[0;36m<cell line: 2>\u001b[0;34m()\u001b[0m\n\u001b[1;32m      <a href='vscode-notebook-cell:/home/therealalex/Desktop/MECD/IACH/Project/nba-injury-prediction/cleaning.ipynb#Y140sZmlsZQ%3D%3D?line=0'>1</a>\u001b[0m inactive_list_df[\u001b[39m'\u001b[39m\u001b[39mon_IL\u001b[39m\u001b[39m'\u001b[39m] \u001b[39m=\u001b[39m \u001b[39m0\u001b[39m\n\u001b[0;32m----> <a href='vscode-notebook-cell:/home/therealalex/Desktop/MECD/IACH/Project/nba-injury-prediction/cleaning.ipynb#Y140sZmlsZQ%3D%3D?line=1'>2</a>\u001b[0m inactive_list_df\u001b[39m.\u001b[39mloc[inactive_list_df[\u001b[39m'\u001b[39;49m\u001b[39mAcquired\u001b[39;49m\u001b[39m'\u001b[39;49m]\u001b[39m.\u001b[39misna(), \u001b[39m'\u001b[39m\u001b[39mon_IL\u001b[39m\u001b[39m'\u001b[39m] \u001b[39m=\u001b[39m \u001b[39m1\u001b[39m\n\u001b[1;32m      <a href='vscode-notebook-cell:/home/therealalex/Desktop/MECD/IACH/Project/nba-injury-prediction/cleaning.ipynb#Y140sZmlsZQ%3D%3D?line=2'>3</a>\u001b[0m inactive_list_df \u001b[39m=\u001b[39m inactive_list_df\u001b[39m.\u001b[39mdrop(columns\u001b[39m=\u001b[39m[\u001b[39m'\u001b[39m\u001b[39mAcquired\u001b[39m\u001b[39m'\u001b[39m,\u001b[39m'\u001b[39m\u001b[39mRelinquished\u001b[39m\u001b[39m'\u001b[39m])\n\u001b[1;32m      <a href='vscode-notebook-cell:/home/therealalex/Desktop/MECD/IACH/Project/nba-injury-prediction/cleaning.ipynb#Y140sZmlsZQ%3D%3D?line=3'>4</a>\u001b[0m inactive_list_df\u001b[39m.\u001b[39mhead()\n",
      "File \u001b[0;32m~/anaconda3/envs/nba_venv/lib/python3.9/site-packages/pandas/core/frame.py:3804\u001b[0m, in \u001b[0;36mDataFrame.__getitem__\u001b[0;34m(self, key)\u001b[0m\n\u001b[1;32m   3802\u001b[0m \u001b[39mif\u001b[39;00m \u001b[39mself\u001b[39m\u001b[39m.\u001b[39mcolumns\u001b[39m.\u001b[39mnlevels \u001b[39m>\u001b[39m \u001b[39m1\u001b[39m:\n\u001b[1;32m   3803\u001b[0m     \u001b[39mreturn\u001b[39;00m \u001b[39mself\u001b[39m\u001b[39m.\u001b[39m_getitem_multilevel(key)\n\u001b[0;32m-> 3804\u001b[0m indexer \u001b[39m=\u001b[39m \u001b[39mself\u001b[39;49m\u001b[39m.\u001b[39;49mcolumns\u001b[39m.\u001b[39;49mget_loc(key)\n\u001b[1;32m   3805\u001b[0m \u001b[39mif\u001b[39;00m is_integer(indexer):\n\u001b[1;32m   3806\u001b[0m     indexer \u001b[39m=\u001b[39m [indexer]\n",
      "File \u001b[0;32m~/anaconda3/envs/nba_venv/lib/python3.9/site-packages/pandas/core/indexes/base.py:3805\u001b[0m, in \u001b[0;36mIndex.get_loc\u001b[0;34m(self, key, method, tolerance)\u001b[0m\n\u001b[1;32m   3803\u001b[0m     \u001b[39mreturn\u001b[39;00m \u001b[39mself\u001b[39m\u001b[39m.\u001b[39m_engine\u001b[39m.\u001b[39mget_loc(casted_key)\n\u001b[1;32m   3804\u001b[0m \u001b[39mexcept\u001b[39;00m \u001b[39mKeyError\u001b[39;00m \u001b[39mas\u001b[39;00m err:\n\u001b[0;32m-> 3805\u001b[0m     \u001b[39mraise\u001b[39;00m \u001b[39mKeyError\u001b[39;00m(key) \u001b[39mfrom\u001b[39;00m \u001b[39merr\u001b[39;00m\n\u001b[1;32m   3806\u001b[0m \u001b[39mexcept\u001b[39;00m \u001b[39mTypeError\u001b[39;00m:\n\u001b[1;32m   3807\u001b[0m     \u001b[39m# If we have a listlike key, _check_indexing_error will raise\u001b[39;00m\n\u001b[1;32m   3808\u001b[0m     \u001b[39m#  InvalidIndexError. Otherwise we fall through and re-raise\u001b[39;00m\n\u001b[1;32m   3809\u001b[0m     \u001b[39m#  the TypeError.\u001b[39;00m\n\u001b[1;32m   3810\u001b[0m     \u001b[39mself\u001b[39m\u001b[39m.\u001b[39m_check_indexing_error(key)\n",
      "\u001b[0;31mKeyError\u001b[0m: 'Acquired'"
     ]
    }
   ],
   "source": [
    "inactive_list_df['on_IL'] = 0\n",
    "inactive_list_df.loc[inactive_list_df['Acquired'].isna(), 'on_IL'] = 1\n",
    "inactive_list_df = inactive_list_df.drop(columns=['Acquired','Relinquished'])\n",
    "inactive_list_df.head()"
   ]
  },
  {
   "cell_type": "code",
   "execution_count": 307,
   "metadata": {},
   "outputs": [],
   "source": [
    "pickle.dump(inactive_list_df,open(DIR_CLEAN_DATA+'inactive_list_cleaned.p', \"wb\" ))"
   ]
  }
 ],
 "metadata": {
  "kernelspec": {
   "display_name": "Python 3.9.13 ('nba_venv')",
   "language": "python",
   "name": "python3"
  },
  "language_info": {
   "codemirror_mode": {
    "name": "ipython",
    "version": 3
   },
   "file_extension": ".py",
   "mimetype": "text/x-python",
   "name": "python",
   "nbconvert_exporter": "python",
   "pygments_lexer": "ipython3",
   "version": "3.9.13"
  },
  "orig_nbformat": 4,
  "vscode": {
   "interpreter": {
    "hash": "e71d058276a05578351ab105652b8235f2e5d3745a72e3c6a5de6264fb4e67c7"
   }
  }
 },
 "nbformat": 4,
 "nbformat_minor": 2
}
